{
 "cells": [
  {
   "cell_type": "markdown",
   "metadata": {},
   "source": [
    "# SCat Research and Developement\n",
    "\n",
    "The goal of this notebook is to use a recurrent neural network (GRU or LSTM) to learn to extract keyword in a text. This model will be used to extract arguments in a natural language request as described below :"
   ]
  },
  {
   "cell_type": "code",
   "execution_count": 1,
   "metadata": {
    "hide_egal": true,
    "is_egal": true
   },
   "outputs": [
    {
     "data": {
      "text/html": [
       "<svg height=\"250\" width=\"100%\"><desc>Created with Snap</desc><defs><filter id=\"Sje2yuzl3jnt\" filterUnits=\"userSpaceOnUse\"><feGaussianBlur in=\"SourceAlpha\" stdDeviation=\"3\"></feGaussianBlur><feOffset dx=\"0\" dy=\"2\" result=\"offsetblur\"></feOffset><feFlood flood-color=\"#000000\"></feFlood><feComposite in2=\"offsetblur\" operator=\"in\"></feComposite><feComponentTransfer><feFuncA type=\"linear\" slope=\"1\"></feFuncA></feComponentTransfer><feMerge><feMergeNode></feMergeNode><feMergeNode in=\"SourceGraphic\"></feMergeNode></feMerge></filter><marker viewBox=\"0 0 10 10\" markerWidth=\"10\" markerHeight=\"10\" orient=\"auto\" refX=\"9\" refY=\"3\" id=\"arrowEndMarker\"><polygon points=\"0,0,0,6,9,3,0,0\" fill=\"#323232\" id=\"arrow\" style=\"\"></polygon></marker><marker viewBox=\"0 0 10 10\" markerWidth=\"10\" markerHeight=\"10\" orient=\"auto\" refX=\"0\" refY=\"3\" id=\"arrowStartMarker\"><polygon points=\"0,3,9,0,9,6,0,3\" fill=\"#323232\" id=\"startArrow\" style=\"\"></polygon></marker></defs><g id=\"drup_elem_1\" first-frame=\"1\" last-frame=\"1\" class=\"drupElem\"><text x=\"71.5\" y=\"200.515625\" class=\"core alignable sub egal-label\" style=\"text-anchor: middle; alignment-baseline: central; font-size: 20px;\" data-src=\"What's the weather...\" transform=\"matrix(1,0,0,1,44,34)\">What's the weather...</text></g><g id=\"drup_elem_2\" first-frame=\"1\" last-frame=\"1\" class=\"drupElem\"><text x=\"96.5\" y=\"184.515625\" class=\"core alignable sub egal-label\" style=\"text-anchor: middle; alignment-baseline: central;\"></text></g><g id=\"drup_elem_3\" first-frame=\"1\" last-frame=\"1\" class=\"drupElem\"><text x=\"168.5\" y=\"159.515625\" class=\"core alignable sub egal-label\" style=\"text-anchor: middle; alignment-baseline: central; font-size: 20px;\"></text></g><g id=\"drup_elem_4\" first-frame=\"1\" last-frame=\"1\" class=\"drupElem\"><rect x=\"313.5\" y=\"54.515625\" width=\"68\" height=\"118\" fill=\"#008080\" stroke=\"#000000\" vector-effect=\"non-scaling-stroke\" style=\"stroke-width: 1;\" class=\"core alignable sub\" transform=\"matrix(1,0,0,1,-69,2)\"></rect><circle cx=\"347.5\" cy=\"54.515625\" r=\"5\" stroke=\"#000000\" fill=\"#ffffff\" id=\"drup_elem_4_endpoint_0\" style=\"stroke-width: 1; opacity: 0;\" class=\"endPoint up sub\" transform=\"matrix(1,0,0,1,-69,2)\"></circle><circle cx=\"347.5\" cy=\"172.515625\" r=\"5\" stroke=\"#000000\" fill=\"#ffffff\" id=\"drup_elem_4_endpoint_1\" style=\"stroke-width: 1; opacity: 0;\" class=\"endPoint down sub\" transform=\"matrix(1,0,0,1,-69,2)\"></circle><circle cx=\"313.5\" cy=\"113.515625\" r=\"5\" stroke=\"#000000\" fill=\"#ffffff\" id=\"drup_elem_4_endpoint_2\" style=\"stroke-width: 1; opacity: 0;\" class=\"endPoint left sub\" transform=\"matrix(1,0,0,1,-69,2)\"></circle><circle cx=\"381.5\" cy=\"113.515625\" r=\"5\" stroke=\"#000000\" fill=\"#ffffff\" id=\"drup_elem_4_endpoint_3\" style=\"stroke-width: 1; opacity: 0;\" class=\"endPoint right sub\" transform=\"matrix(1,0,0,1,-69,2)\"></circle><circle cx=\"313.5\" cy=\"54.515625\" r=\"5\" stroke=\"#000000\" fill=\"#ffffff\" id=\"drup_elem_4_endpoint_4\" style=\"stroke-width: 1; opacity: 0;\" class=\"endPoint left-up sub\" transform=\"matrix(1,0,0,1,-69,2)\"></circle><circle cx=\"313.5\" cy=\"172.515625\" r=\"5\" stroke=\"#000000\" fill=\"#ffffff\" id=\"drup_elem_4_endpoint_5\" style=\"stroke-width: 1; opacity: 0;\" class=\"endPoint left-down sub\" transform=\"matrix(1,0,0,1,-69,2)\"></circle><circle cx=\"381.5\" cy=\"54.515625\" r=\"5\" stroke=\"#000000\" fill=\"#ffffff\" id=\"drup_elem_4_endpoint_6\" style=\"stroke-width: 1; opacity: 0;\" class=\"endPoint right-up sub\" transform=\"matrix(1,0,0,1,-69,2)\"></circle><circle cx=\"381.5\" cy=\"172.515625\" r=\"5\" stroke=\"#000000\" fill=\"#ffffff\" id=\"drup_elem_4_endpoint_7\" style=\"stroke-width: 1; opacity: 0;\" class=\"endPoint right-down sub\" transform=\"matrix(1,0,0,1,-69,2)\"></circle><text x=\"347.5\" y=\"113.515625\" style=\"font-size: 20px; text-anchor: middle; alignment-baseline: central; opacity: 0;\" class=\"egal-label sub\" transform=\"matrix(1,0,0,1,-69,2)\">|</text></g><g id=\"drup_elem_5\" first-frame=\"1\" last-frame=\"1\" class=\"drupElem\"><rect x=\"434.5\" y=\"56.515625\" width=\"71\" height=\"113\" fill=\"#008080\" stroke=\"#000000\" vector-effect=\"non-scaling-stroke\" style=\"stroke-width: 1;\" class=\"core alignable sub\" transform=\"matrix(0.9578,0,0,1.0442,-42.6409,-3.5007)\"></rect><circle cx=\"470\" cy=\"56.515625\" r=\"5\" stroke=\"#000000\" fill=\"#ffffff\" id=\"drup_elem_5_endpoint_0\" style=\"stroke-width: 1; opacity: 0;\" class=\"endPoint up sub\" transform=\"matrix(1,0,0,1,-62.4982,-1)\"></circle><circle cx=\"470\" cy=\"169.515625\" r=\"5\" stroke=\"#000000\" fill=\"#ffffff\" id=\"drup_elem_5_endpoint_1\" style=\"stroke-width: 1; opacity: 0;\" class=\"endPoint down sub\" transform=\"matrix(1,0,0,1,-62.4982,4)\"></circle><circle cx=\"434.5\" cy=\"113.015625\" r=\"5\" stroke=\"#000000\" fill=\"#ffffff\" id=\"drup_elem_5_endpoint_2\" style=\"stroke-width: 1; opacity: 0;\" class=\"endPoint left sub\" transform=\"matrix(1,0,0,1,-60.9984,1.5)\"></circle><circle cx=\"505.5\" cy=\"113.015625\" r=\"5\" stroke=\"#000000\" fill=\"#ffffff\" id=\"drup_elem_5_endpoint_3\" style=\"stroke-width: 1; opacity: 0;\" class=\"endPoint right sub\" transform=\"matrix(1,0,0,1,-63.9981,1.5)\"></circle><circle cx=\"434.5\" cy=\"56.515625\" r=\"5\" stroke=\"#000000\" fill=\"#ffffff\" id=\"drup_elem_5_endpoint_4\" style=\"stroke-width: 1; opacity: 0;\" class=\"endPoint left-up sub\" transform=\"matrix(1,0,0,1,-60.9984,-1)\"></circle><circle cx=\"434.5\" cy=\"169.515625\" r=\"5\" stroke=\"#000000\" fill=\"#ffffff\" id=\"drup_elem_5_endpoint_5\" style=\"stroke-width: 1; opacity: 0;\" class=\"endPoint left-down sub\" transform=\"matrix(1,0,0,1,-60.9984,4)\"></circle><circle cx=\"505.5\" cy=\"56.515625\" r=\"5\" stroke=\"#000000\" fill=\"#ffffff\" id=\"drup_elem_5_endpoint_6\" style=\"stroke-width: 1; opacity: 0;\" class=\"endPoint right-up sub\" transform=\"matrix(1,0,0,1,-63.9981,-1)\"></circle><circle cx=\"505.5\" cy=\"169.515625\" r=\"5\" stroke=\"#000000\" fill=\"#ffffff\" id=\"drup_elem_5_endpoint_7\" style=\"stroke-width: 1; opacity: 0;\" class=\"endPoint right-down sub\" transform=\"matrix(1,0,0,1,-63.9981,4)\"></circle><text x=\"470\" y=\"113.015625\" style=\"font-size: 20px; text-anchor: middle; alignment-baseline: central; opacity: 0;\" class=\"egal-label sub\" transform=\"matrix(1,0,0,1,-62.4976,1.5)\">|</text></g><g id=\"drup_elem_6\" first-frame=\"1\" last-frame=\"1\" class=\"drupElem\"><rect x=\"545.5\" y=\"57.515625\" width=\"72\" height=\"109\" fill=\"#008080\" stroke=\"#000000\" vector-effect=\"non-scaling-stroke\" style=\"stroke-width: 1;\" class=\"core alignable sub\" transform=\"matrix(0.9444,0,0,1.0825,-9.6944,-6.7492)\"></rect><circle cx=\"581.5\" cy=\"57.515625\" r=\"5\" stroke=\"#000000\" fill=\"#ffffff\" id=\"drup_elem_6_endpoint_0\" style=\"stroke-width: 1; opacity: 0;\" class=\"endPoint up sub\" transform=\"matrix(1,0,0,1,-42,-2.0001)\"></circle><circle cx=\"581.5\" cy=\"166.515625\" r=\"5\" stroke=\"#000000\" fill=\"#ffffff\" id=\"drup_elem_6_endpoint_1\" style=\"stroke-width: 1; opacity: 0;\" class=\"endPoint down sub\" transform=\"matrix(1,0,0,1,-42,7)\"></circle><circle cx=\"545.5\" cy=\"112.015625\" r=\"5\" stroke=\"#000000\" fill=\"#ffffff\" id=\"drup_elem_6_endpoint_2\" style=\"stroke-width: 1; opacity: 0;\" class=\"endPoint left sub\" transform=\"matrix(1,0,0,1,-40,2.5)\"></circle><circle cx=\"617.5\" cy=\"112.015625\" r=\"5\" stroke=\"#000000\" fill=\"#ffffff\" id=\"drup_elem_6_endpoint_3\" style=\"stroke-width: 1; opacity: 0;\" class=\"endPoint right sub\" transform=\"matrix(1,0,0,1,-44,2.5)\"></circle><circle cx=\"545.5\" cy=\"57.515625\" r=\"5\" stroke=\"#000000\" fill=\"#ffffff\" id=\"drup_elem_6_endpoint_4\" style=\"stroke-width: 1; opacity: 0;\" class=\"endPoint left-up sub\" transform=\"matrix(1,0,0,1,-40,-2.0001)\"></circle><circle cx=\"545.5\" cy=\"166.515625\" r=\"5\" stroke=\"#000000\" fill=\"#ffffff\" id=\"drup_elem_6_endpoint_5\" style=\"stroke-width: 1; opacity: 0;\" class=\"endPoint left-down sub\" transform=\"matrix(1,0,0,1,-40,7)\"></circle><circle cx=\"617.5\" cy=\"57.515625\" r=\"5\" stroke=\"#000000\" fill=\"#ffffff\" id=\"drup_elem_6_endpoint_6\" style=\"stroke-width: 1; opacity: 0;\" class=\"endPoint right-up sub\" transform=\"matrix(1,0,0,1,-44,-2.0001)\"></circle><circle cx=\"617.5\" cy=\"166.515625\" r=\"5\" stroke=\"#000000\" fill=\"#ffffff\" id=\"drup_elem_6_endpoint_7\" style=\"stroke-width: 1; opacity: 0;\" class=\"endPoint right-down sub\" transform=\"matrix(1,0,0,1,-44,7)\"></circle><text x=\"581.5\" y=\"112.015625\" style=\"font-size: 20px; text-anchor: middle; alignment-baseline: central; opacity: 0;\" class=\"egal-label sub\" transform=\"matrix(1,0,0,1,-41.9991,2.5)\">|</text></g><g id=\"drup_elem_7\" first-frame=\"1\" last-frame=\"1\" class=\"drupElem\"><line x1=\"312.5\" x2=\"373.50160000000005\" y1=\"115.515625\" y2=\"114.515625\" stroke=\"#000000\" data-n1=\"drup_elem_4_endpoint_3\" style=\"marker-end: url(&quot;#arrowEndMarker&quot;);\" class=\"connector egal-line core\" data-n2=\"drup_elem_5_endpoint_2\"></line><text x=\"343.00079345703125\" y=\"115.015625\" style=\"font-size: 20px; text-anchor: middle; alignment-baseline: central; opacity: 0;\" class=\"egal-label sub\">|</text></g><g id=\"drup_elem_8\" first-frame=\"1\" last-frame=\"1\" class=\"drupElem\"><line x1=\"441.5019\" x2=\"505.5\" y1=\"114.515625\" y2=\"114.515625\" stroke=\"#000000\" data-n1=\"drup_elem_5_endpoint_3\" style=\"marker-end: url(&quot;#arrowEndMarker&quot;);\" class=\"connector egal-line core\" data-n2=\"drup_elem_6_endpoint_2\"></line><text x=\"473.5009460449219\" y=\"114.515625\" style=\"font-size: 20px; text-anchor: middle; alignment-baseline: central; opacity: 0;\" class=\"egal-label sub\">|</text></g><g id=\"drup_elem_9\" first-frame=\"1\" last-frame=\"1\" class=\"drupElem\"><text x=\"263.5\" y=\"255.515625\" class=\"core alignable sub egal-label\" style=\"text-anchor: middle; alignment-baseline: central; font-size: 20px;\" data-src=\"in\" transform=\"matrix(1,0,0,1.1359,15,-88.2423)\">in</text></g><g id=\"drup_elem_10\" first-frame=\"1\" last-frame=\"1\" class=\"drupElem\"><text x=\"407.5\" y=\"215.515625\" class=\"core alignable sub egal-label\" style=\"text-anchor: middle; alignment-baseline: central; font-size: 20px;\" data-src=\"new\" transform=\"matrix(1,0,0,1,0,-13)\">new</text></g><g id=\"drup_elem_11\" first-frame=\"1\" last-frame=\"1\" class=\"drupElem\"><text x=\"542.5\" y=\"223.515625\" class=\"core alignable sub egal-label\" style=\"text-anchor: middle; alignment-baseline: central; font-size: 20px;\" data-src=\"york\" transform=\"matrix(1,0,0,1,-2,-19)\">york</text></g><g id=\"drup_elem_12\" first-frame=\"1\" last-frame=\"1\" class=\"drupElem\"><text x=\"284.5\" y=\"41.515625\" class=\"core alignable sub egal-label\" style=\"text-anchor: middle; alignment-baseline: central; font-size: 20px;\" data-src=\"0.02\" transform=\"matrix(1,0,0,1,-7,-11)\">0.02</text></g><g id=\"drup_elem_13\" first-frame=\"1\" last-frame=\"1\" class=\"drupElem\"><text x=\"406.5\" y=\"45.515625\" class=\"core alignable sub egal-label\" style=\"text-anchor: middle; alignment-baseline: central; font-size: 20px;\" data-src=\"0.98\" transform=\"matrix(1,0,0,1,0,-15)\">0.98</text></g><g id=\"drup_elem_14\" first-frame=\"1\" last-frame=\"1\" class=\"drupElem egal-select\"><text x=\"526.5\" y=\"38.515625\" class=\"core alignable sub egal-label\" style=\"text-anchor: middle; alignment-baseline: central; font-size: 20px;\" data-src=\"0.93\" transform=\"matrix(1,0,0,1,14,-10)\">0.93</text></g></svg>"
      ],
      "text/plain": [
       "<IPython.core.display.HTML object>"
      ]
     },
     "metadata": {},
     "output_type": "execute_result"
    }
   ],
   "source": [
    "%%html\n",
    "<svg height=\"250\" width=\"100%\"><desc>Created with Snap</desc><defs><filter id=\"Sje2yuzl3jnt\" filterUnits=\"userSpaceOnUse\"><feGaussianBlur in=\"SourceAlpha\" stdDeviation=\"3\"></feGaussianBlur><feOffset dx=\"0\" dy=\"2\" result=\"offsetblur\"></feOffset><feFlood flood-color=\"#000000\"></feFlood><feComposite in2=\"offsetblur\" operator=\"in\"></feComposite><feComponentTransfer><feFuncA type=\"linear\" slope=\"1\"></feFuncA></feComponentTransfer><feMerge><feMergeNode></feMergeNode><feMergeNode in=\"SourceGraphic\"></feMergeNode></feMerge></filter><marker viewBox=\"0 0 10 10\" markerWidth=\"10\" markerHeight=\"10\" orient=\"auto\" refX=\"9\" refY=\"3\" id=\"arrowEndMarker\"><polygon points=\"0,0,0,6,9,3,0,0\" fill=\"#323232\" id=\"arrow\" style=\"\"></polygon></marker><marker viewBox=\"0 0 10 10\" markerWidth=\"10\" markerHeight=\"10\" orient=\"auto\" refX=\"0\" refY=\"3\" id=\"arrowStartMarker\"><polygon points=\"0,3,9,0,9,6,0,3\" fill=\"#323232\" id=\"startArrow\" style=\"\"></polygon></marker></defs><g id=\"drup_elem_1\" first-frame=\"1\" last-frame=\"1\" class=\"drupElem\"><text x=\"71.5\" y=\"200.515625\" class=\"core alignable sub egal-label\" style=\"text-anchor: middle; alignment-baseline: central; font-size: 20px;\" data-src=\"What's the weather...\" transform=\"matrix(1,0,0,1,44,34)\">What's the weather...</text></g><g id=\"drup_elem_2\" first-frame=\"1\" last-frame=\"1\" class=\"drupElem\"><text x=\"96.5\" y=\"184.515625\" class=\"core alignable sub egal-label\" style=\"text-anchor: middle; alignment-baseline: central;\"></text></g><g id=\"drup_elem_3\" first-frame=\"1\" last-frame=\"1\" class=\"drupElem\"><text x=\"168.5\" y=\"159.515625\" class=\"core alignable sub egal-label\" style=\"text-anchor: middle; alignment-baseline: central; font-size: 20px;\"></text></g><g id=\"drup_elem_4\" first-frame=\"1\" last-frame=\"1\" class=\"drupElem\"><rect x=\"313.5\" y=\"54.515625\" width=\"68\" height=\"118\" fill=\"#008080\" stroke=\"#000000\" vector-effect=\"non-scaling-stroke\" style=\"stroke-width: 1;\" class=\"core alignable sub\" transform=\"matrix(1,0,0,1,-69,2)\"></rect><circle cx=\"347.5\" cy=\"54.515625\" r=\"5\" stroke=\"#000000\" fill=\"#ffffff\" id=\"drup_elem_4_endpoint_0\" style=\"stroke-width: 1; opacity: 0;\" class=\"endPoint up sub\" transform=\"matrix(1,0,0,1,-69,2)\"></circle><circle cx=\"347.5\" cy=\"172.515625\" r=\"5\" stroke=\"#000000\" fill=\"#ffffff\" id=\"drup_elem_4_endpoint_1\" style=\"stroke-width: 1; opacity: 0;\" class=\"endPoint down sub\" transform=\"matrix(1,0,0,1,-69,2)\"></circle><circle cx=\"313.5\" cy=\"113.515625\" r=\"5\" stroke=\"#000000\" fill=\"#ffffff\" id=\"drup_elem_4_endpoint_2\" style=\"stroke-width: 1; opacity: 0;\" class=\"endPoint left sub\" transform=\"matrix(1,0,0,1,-69,2)\"></circle><circle cx=\"381.5\" cy=\"113.515625\" r=\"5\" stroke=\"#000000\" fill=\"#ffffff\" id=\"drup_elem_4_endpoint_3\" style=\"stroke-width: 1; opacity: 0;\" class=\"endPoint right sub\" transform=\"matrix(1,0,0,1,-69,2)\"></circle><circle cx=\"313.5\" cy=\"54.515625\" r=\"5\" stroke=\"#000000\" fill=\"#ffffff\" id=\"drup_elem_4_endpoint_4\" style=\"stroke-width: 1; opacity: 0;\" class=\"endPoint left-up sub\" transform=\"matrix(1,0,0,1,-69,2)\"></circle><circle cx=\"313.5\" cy=\"172.515625\" r=\"5\" stroke=\"#000000\" fill=\"#ffffff\" id=\"drup_elem_4_endpoint_5\" style=\"stroke-width: 1; opacity: 0;\" class=\"endPoint left-down sub\" transform=\"matrix(1,0,0,1,-69,2)\"></circle><circle cx=\"381.5\" cy=\"54.515625\" r=\"5\" stroke=\"#000000\" fill=\"#ffffff\" id=\"drup_elem_4_endpoint_6\" style=\"stroke-width: 1; opacity: 0;\" class=\"endPoint right-up sub\" transform=\"matrix(1,0,0,1,-69,2)\"></circle><circle cx=\"381.5\" cy=\"172.515625\" r=\"5\" stroke=\"#000000\" fill=\"#ffffff\" id=\"drup_elem_4_endpoint_7\" style=\"stroke-width: 1; opacity: 0;\" class=\"endPoint right-down sub\" transform=\"matrix(1,0,0,1,-69,2)\"></circle><text x=\"347.5\" y=\"113.515625\" style=\"font-size: 20px; text-anchor: middle; alignment-baseline: central; opacity: 0;\" class=\"egal-label sub\" transform=\"matrix(1,0,0,1,-69,2)\">|</text></g><g id=\"drup_elem_5\" first-frame=\"1\" last-frame=\"1\" class=\"drupElem\"><rect x=\"434.5\" y=\"56.515625\" width=\"71\" height=\"113\" fill=\"#008080\" stroke=\"#000000\" vector-effect=\"non-scaling-stroke\" style=\"stroke-width: 1;\" class=\"core alignable sub\" transform=\"matrix(0.9578,0,0,1.0442,-42.6409,-3.5007)\"></rect><circle cx=\"470\" cy=\"56.515625\" r=\"5\" stroke=\"#000000\" fill=\"#ffffff\" id=\"drup_elem_5_endpoint_0\" style=\"stroke-width: 1; opacity: 0;\" class=\"endPoint up sub\" transform=\"matrix(1,0,0,1,-62.4982,-1)\"></circle><circle cx=\"470\" cy=\"169.515625\" r=\"5\" stroke=\"#000000\" fill=\"#ffffff\" id=\"drup_elem_5_endpoint_1\" style=\"stroke-width: 1; opacity: 0;\" class=\"endPoint down sub\" transform=\"matrix(1,0,0,1,-62.4982,4)\"></circle><circle cx=\"434.5\" cy=\"113.015625\" r=\"5\" stroke=\"#000000\" fill=\"#ffffff\" id=\"drup_elem_5_endpoint_2\" style=\"stroke-width: 1; opacity: 0;\" class=\"endPoint left sub\" transform=\"matrix(1,0,0,1,-60.9984,1.5)\"></circle><circle cx=\"505.5\" cy=\"113.015625\" r=\"5\" stroke=\"#000000\" fill=\"#ffffff\" id=\"drup_elem_5_endpoint_3\" style=\"stroke-width: 1; opacity: 0;\" class=\"endPoint right sub\" transform=\"matrix(1,0,0,1,-63.9981,1.5)\"></circle><circle cx=\"434.5\" cy=\"56.515625\" r=\"5\" stroke=\"#000000\" fill=\"#ffffff\" id=\"drup_elem_5_endpoint_4\" style=\"stroke-width: 1; opacity: 0;\" class=\"endPoint left-up sub\" transform=\"matrix(1,0,0,1,-60.9984,-1)\"></circle><circle cx=\"434.5\" cy=\"169.515625\" r=\"5\" stroke=\"#000000\" fill=\"#ffffff\" id=\"drup_elem_5_endpoint_5\" style=\"stroke-width: 1; opacity: 0;\" class=\"endPoint left-down sub\" transform=\"matrix(1,0,0,1,-60.9984,4)\"></circle><circle cx=\"505.5\" cy=\"56.515625\" r=\"5\" stroke=\"#000000\" fill=\"#ffffff\" id=\"drup_elem_5_endpoint_6\" style=\"stroke-width: 1; opacity: 0;\" class=\"endPoint right-up sub\" transform=\"matrix(1,0,0,1,-63.9981,-1)\"></circle><circle cx=\"505.5\" cy=\"169.515625\" r=\"5\" stroke=\"#000000\" fill=\"#ffffff\" id=\"drup_elem_5_endpoint_7\" style=\"stroke-width: 1; opacity: 0;\" class=\"endPoint right-down sub\" transform=\"matrix(1,0,0,1,-63.9981,4)\"></circle><text x=\"470\" y=\"113.015625\" style=\"font-size: 20px; text-anchor: middle; alignment-baseline: central; opacity: 0;\" class=\"egal-label sub\" transform=\"matrix(1,0,0,1,-62.4976,1.5)\">|</text></g><g id=\"drup_elem_6\" first-frame=\"1\" last-frame=\"1\" class=\"drupElem\"><rect x=\"545.5\" y=\"57.515625\" width=\"72\" height=\"109\" fill=\"#008080\" stroke=\"#000000\" vector-effect=\"non-scaling-stroke\" style=\"stroke-width: 1;\" class=\"core alignable sub\" transform=\"matrix(0.9444,0,0,1.0825,-9.6944,-6.7492)\"></rect><circle cx=\"581.5\" cy=\"57.515625\" r=\"5\" stroke=\"#000000\" fill=\"#ffffff\" id=\"drup_elem_6_endpoint_0\" style=\"stroke-width: 1; opacity: 0;\" class=\"endPoint up sub\" transform=\"matrix(1,0,0,1,-42,-2.0001)\"></circle><circle cx=\"581.5\" cy=\"166.515625\" r=\"5\" stroke=\"#000000\" fill=\"#ffffff\" id=\"drup_elem_6_endpoint_1\" style=\"stroke-width: 1; opacity: 0;\" class=\"endPoint down sub\" transform=\"matrix(1,0,0,1,-42,7)\"></circle><circle cx=\"545.5\" cy=\"112.015625\" r=\"5\" stroke=\"#000000\" fill=\"#ffffff\" id=\"drup_elem_6_endpoint_2\" style=\"stroke-width: 1; opacity: 0;\" class=\"endPoint left sub\" transform=\"matrix(1,0,0,1,-40,2.5)\"></circle><circle cx=\"617.5\" cy=\"112.015625\" r=\"5\" stroke=\"#000000\" fill=\"#ffffff\" id=\"drup_elem_6_endpoint_3\" style=\"stroke-width: 1; opacity: 0;\" class=\"endPoint right sub\" transform=\"matrix(1,0,0,1,-44,2.5)\"></circle><circle cx=\"545.5\" cy=\"57.515625\" r=\"5\" stroke=\"#000000\" fill=\"#ffffff\" id=\"drup_elem_6_endpoint_4\" style=\"stroke-width: 1; opacity: 0;\" class=\"endPoint left-up sub\" transform=\"matrix(1,0,0,1,-40,-2.0001)\"></circle><circle cx=\"545.5\" cy=\"166.515625\" r=\"5\" stroke=\"#000000\" fill=\"#ffffff\" id=\"drup_elem_6_endpoint_5\" style=\"stroke-width: 1; opacity: 0;\" class=\"endPoint left-down sub\" transform=\"matrix(1,0,0,1,-40,7)\"></circle><circle cx=\"617.5\" cy=\"57.515625\" r=\"5\" stroke=\"#000000\" fill=\"#ffffff\" id=\"drup_elem_6_endpoint_6\" style=\"stroke-width: 1; opacity: 0;\" class=\"endPoint right-up sub\" transform=\"matrix(1,0,0,1,-44,-2.0001)\"></circle><circle cx=\"617.5\" cy=\"166.515625\" r=\"5\" stroke=\"#000000\" fill=\"#ffffff\" id=\"drup_elem_6_endpoint_7\" style=\"stroke-width: 1; opacity: 0;\" class=\"endPoint right-down sub\" transform=\"matrix(1,0,0,1,-44,7)\"></circle><text x=\"581.5\" y=\"112.015625\" style=\"font-size: 20px; text-anchor: middle; alignment-baseline: central; opacity: 0;\" class=\"egal-label sub\" transform=\"matrix(1,0,0,1,-41.9991,2.5)\">|</text></g><g id=\"drup_elem_7\" first-frame=\"1\" last-frame=\"1\" class=\"drupElem\"><line x1=\"312.5\" x2=\"373.50160000000005\" y1=\"115.515625\" y2=\"114.515625\" stroke=\"#000000\" data-n1=\"drup_elem_4_endpoint_3\" style=\"marker-end: url(&quot;#arrowEndMarker&quot;);\" class=\"connector egal-line core\" data-n2=\"drup_elem_5_endpoint_2\"></line><text x=\"343.00079345703125\" y=\"115.015625\" style=\"font-size: 20px; text-anchor: middle; alignment-baseline: central; opacity: 0;\" class=\"egal-label sub\">|</text></g><g id=\"drup_elem_8\" first-frame=\"1\" last-frame=\"1\" class=\"drupElem\"><line x1=\"441.5019\" x2=\"505.5\" y1=\"114.515625\" y2=\"114.515625\" stroke=\"#000000\" data-n1=\"drup_elem_5_endpoint_3\" style=\"marker-end: url(&quot;#arrowEndMarker&quot;);\" class=\"connector egal-line core\" data-n2=\"drup_elem_6_endpoint_2\"></line><text x=\"473.5009460449219\" y=\"114.515625\" style=\"font-size: 20px; text-anchor: middle; alignment-baseline: central; opacity: 0;\" class=\"egal-label sub\">|</text></g><g id=\"drup_elem_9\" first-frame=\"1\" last-frame=\"1\" class=\"drupElem\"><text x=\"263.5\" y=\"255.515625\" class=\"core alignable sub egal-label\" style=\"text-anchor: middle; alignment-baseline: central; font-size: 20px;\" data-src=\"in\" transform=\"matrix(1,0,0,1.1359,15,-88.2423)\">in</text></g><g id=\"drup_elem_10\" first-frame=\"1\" last-frame=\"1\" class=\"drupElem\"><text x=\"407.5\" y=\"215.515625\" class=\"core alignable sub egal-label\" style=\"text-anchor: middle; alignment-baseline: central; font-size: 20px;\" data-src=\"new\" transform=\"matrix(1,0,0,1,0,-13)\">new</text></g><g id=\"drup_elem_11\" first-frame=\"1\" last-frame=\"1\" class=\"drupElem\"><text x=\"542.5\" y=\"223.515625\" class=\"core alignable sub egal-label\" style=\"text-anchor: middle; alignment-baseline: central; font-size: 20px;\" data-src=\"york\" transform=\"matrix(1,0,0,1,-2,-19)\">york</text></g><g id=\"drup_elem_12\" first-frame=\"1\" last-frame=\"1\" class=\"drupElem\"><text x=\"284.5\" y=\"41.515625\" class=\"core alignable sub egal-label\" style=\"text-anchor: middle; alignment-baseline: central; font-size: 20px;\" data-src=\"0.02\" transform=\"matrix(1,0,0,1,-7,-11)\">0.02</text></g><g id=\"drup_elem_13\" first-frame=\"1\" last-frame=\"1\" class=\"drupElem\"><text x=\"406.5\" y=\"45.515625\" class=\"core alignable sub egal-label\" style=\"text-anchor: middle; alignment-baseline: central; font-size: 20px;\" data-src=\"0.98\" transform=\"matrix(1,0,0,1,0,-15)\">0.98</text></g><g id=\"drup_elem_14\" first-frame=\"1\" last-frame=\"1\" class=\"drupElem egal-select\"><text x=\"526.5\" y=\"38.515625\" class=\"core alignable sub egal-label\" style=\"text-anchor: middle; alignment-baseline: central; font-size: 20px;\" data-src=\"0.93\" transform=\"matrix(1,0,0,1,14,-10)\">0.93</text></g></svg>"
   ]
  },
  {
   "cell_type": "markdown",
   "metadata": {},
   "source": [
    "Each teal square represent a recurrent neural network unit, each unit take a word as the input and return the probability of the word being an \"argument\", here a city.\n",
    "\n",
    "To achieve this, the text input has to be tokenized and each word as to be transformed into a vector.\n",
    "\n",
    "\n",
    "Usually, the word vector need to be calculated using something like GloVe or Word2Vec but, as the Kadot Pytorch implementation of CBOW isn't available yet we will use a simple 1-hot encoding."
   ]
  },
  {
   "cell_type": "code",
   "execution_count": 2,
   "metadata": {},
   "outputs": [],
   "source": [
    "import torch\n",
    "\n",
    "tokenizer = lambda text: text.split()\n",
    "\n",
    "def vectorizer(tokens):\n",
    "    vocabulary = list(set(tokens))\n",
    "    embedding = dict()\n",
    "    \n",
    "    for word_index, word in enumerate(vocabulary):\n",
    "        word_vec = torch.zeros(len(vocabulary))\n",
    "        word_vec[word_index] = 1\n",
    "        embedding[word] = word_vec\n",
    "        \n",
    "    return embedding"
   ]
  },
  {
   "cell_type": "markdown",
   "metadata": {},
   "source": [
    "Now let's write the model, I will use a simple GRU cell as the encoder and a raw non-recurrent layer activated by softmax as the decoder."
   ]
  },
  {
   "cell_type": "code",
   "execution_count": 3,
   "metadata": {},
   "outputs": [],
   "source": [
    "from torch import nn\n",
    "from torch.autograd import Variable\n",
    "\n",
    "\n",
    "class SCatCell(nn.Module):\n",
    "    def __init__(self, input_size, hidden_size, output_size):\n",
    "        super(SCatCell, self).__init__()\n",
    "        self.hidden_size = hidden_size\n",
    "        \n",
    "        self.encoder = nn.GRUCell(input_size, hidden_size)\n",
    "        self.decoder = nn.Linear(hidden_size, output_size)\n",
    "        \n",
    "    def forward(self, input, hidden):\n",
    "        next_hidden_state = self.encoder(input, hidden)\n",
    "        output = self.decoder(next_hidden_state.view(self.hidden_size))\n",
    "        \n",
    "        return next_hidden_state, output\n",
    "    \n",
    "    def init_hidden(self):\n",
    "        return Variable(torch.zeros(1, self.hidden_size))\n"
   ]
  },
  {
   "cell_type": "markdown",
   "metadata": {},
   "source": [
    "Now we just need to prepare a simple dataset and train the model !\n",
    "\n",
    "The dataset is a simple collection of only six weather question, the goal is for the network to identify the city in the sentence like in a supervised classifcation problem."
   ]
  },
  {
   "cell_type": "code",
   "execution_count": 4,
   "metadata": {},
   "outputs": [],
   "source": [
    "train_x = [\n",
    "    \"What is the weather like in Paris ?\",\n",
    "    \"What kind of weather will it do in London ?\",\n",
    "    \"Give me the weather forecast in Berlin please .\",\n",
    "    \"Tell me the forecast in New York !\",\n",
    "    \"Give me the weather in San Francisco ...\",\n",
    "    \"I want the forecast in Dublin .\",\n",
    "    \"I want the forecast in\"  # Try to reduce the detection of \"in\" as a city\n",
    "]\n",
    "train_y = [\n",
    "    ('Paris'),\n",
    "    ('London'),\n",
    "    ('Berlin'),\n",
    "    ('New', 'York'),\n",
    "    ('San', 'Francisco'),\n",
    "    ('Dublin'),\n",
    "    ()\n",
    "]"
   ]
  },
  {
   "cell_type": "markdown",
   "metadata": {},
   "source": [
    "Finally, train the model !"
   ]
  },
  {
   "cell_type": "code",
   "execution_count": 5,
   "metadata": {},
   "outputs": [
    {
     "name": "stdout",
     "output_type": "stream",
     "text": [
      "Epoch 0 - Loss: 0.0049\n",
      "Epoch 200 - Loss: 0.0315\n",
      "Epoch 400 - Loss: 0.0308\n",
      "Epoch 600 - Loss: 0.0308\n",
      "Epoch 800 - Loss: 0.0308\n",
      "Epoch 1000 - Loss: 0.0307\n",
      "Epoch 1200 - Loss: 0.0307\n",
      "Epoch 1400 - Loss: 0.0307\n",
      "Epoch 1600 - Loss: 0.0307\n",
      "Epoch 1800 - Loss: 0.0307\n"
     ]
    }
   ],
   "source": [
    "from torch import optim\n",
    "\n",
    "learning_rate = 0.001\n",
    "n_epoch = 2000\n",
    "\n",
    "embeddings = vectorizer(tokenizer(' '.join(train_x + ['Los', 'Angeles']))) # add a city not in the training set for testing\n",
    "\n",
    "model = SCatCell(len(embeddings), 10, 1)\n",
    "optimizer = optim.Adam(model.parameters(), lr=learning_rate)\n",
    "loss = nn.MSELoss()\n",
    "\n",
    "for epoch in range(n_epoch):    \n",
    "    for s_x, s_y in zip([tokenizer(t) for t in train_x], train_y):\n",
    "        hidden_state = model.init_hidden()\n",
    "        \n",
    "        ys = Variable(torch.FloatTensor([0]))\n",
    "        preds = Variable(torch.FloatTensor([0]), requires_grad=True)\n",
    "        for word in s_x:\n",
    "            word_vec = Variable(embeddings[word].view(1, len(embeddings)))\n",
    "            word_y = Variable(torch.FloatTensor([int(word in s_y)]))\n",
    "            \n",
    "            hidden_state, pred = model(word_vec, hidden_state)\n",
    "\n",
    "            ys = torch.cat((ys, word_y), 0)\n",
    "            preds = torch.cat((preds, pred), 0)\n",
    "        \n",
    "        \n",
    "        error = loss(preds, ys)\n",
    "        error.backward()\n",
    "        optimizer.step()\n",
    "        optimizer.zero_grad()\n",
    "    if epoch % 200 == 0:\n",
    "        print(\"Epoch {} - Loss: {}\".format(epoch, round(float(error), 4)))"
   ]
  },
  {
   "cell_type": "markdown",
   "metadata": {},
   "source": [
    "Learning seems to follow a strange curve but... let's check a training sample !"
   ]
  },
  {
   "cell_type": "code",
   "execution_count": 6,
   "metadata": {},
   "outputs": [
    {
     "name": "stdout",
     "output_type": "stream",
     "text": [
      "the -0.06132287532091141\n",
      "forecast -0.04271900653839111\n",
      "in 0.45391690731048584\n",
      "Los 0.8922172784805298\n",
      "Angeles 0.6652529239654541\n",
      "please 0.11056838184595108\n"
     ]
    }
   ],
   "source": [
    "x = \"the forecast in Los Angeles please\"\n",
    "s_x = tokenizer(x)\n",
    "hidden_state = model.init_hidden()\n",
    "preds = []\n",
    "\n",
    "for word in s_x:\n",
    "    word_vec = Variable(embeddings[word].view(1, len(embeddings)))\n",
    "    hidden_state, pred = model(word_vec, hidden_state)\n",
    "    preds.append(float(pred))\n",
    "    \n",
    "    print(word, float(pred))"
   ]
  },
  {
   "cell_type": "code",
   "execution_count": 7,
   "metadata": {},
   "outputs": [
    {
     "data": {
      "text/plain": [
       "<Container object of 6 artists>"
      ]
     },
     "execution_count": 7,
     "metadata": {},
     "output_type": "execute_result"
    },
    {
     "data": {
      "image/png": "[encoded data removed]",
      "text/plain": [
       "<matplotlib.figure.Figure at 0x7f1305fd6a90>"
      ]
     },
     "metadata": {},
     "output_type": "display_data"
    }
   ],
   "source": [
    "import matplotlib.pyplot as plt\n",
    "%matplotlib inline\n",
    "\n",
    "plt.figure()\n",
    "plt.bar(range(6), preds)"
   ]
  },
  {
   "cell_type": "markdown",
   "metadata": {},
   "source": [
    "Results are encouraging, the result given is exactly what I wanted to see."
   ]
  },
  {
   "cell_type": "code",
   "execution_count": null,
   "metadata": {},
   "outputs": [],
   "source": []
  }
 ],
 "metadata": {
  "kernelspec": {
   "display_name": "Python 3",
   "language": "python",
   "name": "python3"
  },
  "language_info": {
   "codemirror_mode": {
    "name": "ipython",
    "version": 3
   },
   "file_extension": ".py",
   "mimetype": "text/x-python",
   "name": "python",
   "nbconvert_exporter": "python",
   "pygments_lexer": "ipython3",
   "version": "3.5.2"
  }
 },
 "nbformat": 4,
 "nbformat_minor": 2
}
